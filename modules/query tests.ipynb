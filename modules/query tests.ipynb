{
 "cells": [
  {
   "cell_type": "code",
   "execution_count": 1,
   "metadata": {},
   "outputs": [],
   "source": [
    "import re"
   ]
  },
  {
   "cell_type": "code",
   "execution_count": 133,
   "metadata": {},
   "outputs": [
    {
     "data": {
      "text/plain": [
       "['tag1', 'tag 2']"
      ]
     },
     "execution_count": 133,
     "metadata": {},
     "output_type": "execute_result"
    }
   ],
   "source": [
    "_shorthand2status = {\n",
    "    \"ip\": \"in progress\",\n",
    "    \"los\": \"live on site\",\n",
    "    \"mfd\": \"marked for deletion\",\n",
    "    \"ns\": \"not started\",\n",
    "    \"w\": \"withdrawn\",\n",
    "}\n",
    "\n",
    "def parse_tags(tag_string: str) -> list[str]:\n",
    "    tags = re.split(r\"[\\\"']\\s+[\\\"']\", tag_string)\n",
    "    return [t.replace('\"', \"\").replace(\"'\", \"\") for t in tags]\n",
    "\n",
    "re_status = re.compile(r\"(?P<status>(?<=status\\s){status_vals})\".format(\n",
    "    status_vals=\"|\".join(list(_shorthand2status) + list(_shorthand2status.values())).replace(\" \", r\"\\s\")\n",
    "), re.X | re.I)\n",
    "re_tags = re.compile(r\"(?P<tags>(?<=tags\\s)([\\\"'].+[\\\"'])+)\", re.X | re.I)\n",
    "re_status.search(\"status in progress\")\n",
    "tag_string = re_tags.search(\"tags 'tag1'   \\\"tag 2\\\"\").groupdict()[\"tags\"]\n",
    "parse_tags(tag_string)"
   ]
  },
  {
   "cell_type": "code",
   "execution_count": 93,
   "metadata": {},
   "outputs": [
    {
     "data": {
      "text/plain": [
       "'(?P<status>(?<=status )ip|los|mfd|ns|w|in progress|live on site|marked for deletion|not started|withdrawn)'"
      ]
     },
     "execution_count": 93,
     "metadata": {},
     "output_type": "execute_result"
    }
   ],
   "source": [
    "re_status.pattern"
   ]
  },
  {
   "cell_type": "code",
   "execution_count": 69,
   "metadata": {},
   "outputs": [
    {
     "data": {
      "text/plain": [
       "(154,\n",
       " 'with:?\\\\s[(?P<status>(?<=status\\\\s)ip|los|mfd|ns|w|in progress|live on site|marked for deletion|not started|withdrawn)(?P<tags>(?<=tags\\\\s)([\\\\\"\\'].+[\\\\\"\\'])+)]+')"
      ]
     },
     "execution_count": 69,
     "metadata": {},
     "output_type": "execute_result"
    }
   ],
   "source": [
    "s=r\"with:?\\s[{pats}]+\".format(pats=\"\".join([re_status.pattern, re_tags.pattern]))\n",
    "len(s),s"
   ]
  },
  {
   "cell_type": "code",
   "execution_count": 58,
   "metadata": {},
   "outputs": [
    {
     "data": {
      "text/plain": [
       "<re.Match object; span=(0, 6), match='with: '>"
      ]
     },
     "execution_count": 58,
     "metadata": {},
     "output_type": "execute_result"
    }
   ],
   "source": [
    "re_with.search(\"with: status ip\")"
   ]
  },
  {
   "cell_type": "code",
   "execution_count": 62,
   "metadata": {},
   "outputs": [
    {
     "name": "stdout",
     "output_type": "stream",
     "text": [
      "(?P<status>(?<=status\\s)ip|los|mfd|ns|w|in progress|live on site|marked for deletion|not started|withdrawn)|(?P<tags>(?<=tags\\s)([\\\"'].+[\\\"'])+)\n"
     ]
    }
   ],
   "source": [
    "print(\"|\".join([re_status.pattern, re_tags.pattern]))"
   ]
  },
  {
   "cell_type": "code",
   "execution_count": 50,
   "metadata": {},
   "outputs": [
    {
     "data": {
      "text/plain": [
       "(<re.Match object; span=(7, 9), match='ip'>,\n",
       " <re.Match object; span=(5, 23), match=\"'asdasd' 'asda sd'\">)"
      ]
     },
     "execution_count": 50,
     "metadata": {},
     "output_type": "execute_result"
    }
   ],
   "source": [
    "re_status.search(\"status ip\"), re_tags.search(\"tags 'asdasd' 'asda sd'\")"
   ]
  },
  {
   "cell_type": "code",
   "execution_count": 31,
   "metadata": {},
   "outputs": [
    {
     "name": "stdout",
     "output_type": "stream",
     "text": [
      "\n",
      "with:?\\s(\n",
      "    (?P<status>(?<=status\\s)(?:ip|los|mfd|ns|w|in progress|live on site|marked for deletion|not started|withdrawn))\n",
      "    |\n",
      "    (?P<tags>(?<=tags\\s)(\".+\")+)\n",
      ")+\n",
      "\n"
     ]
    }
   ],
   "source": [
    "print(re_with.pattern)"
   ]
  },
  {
   "cell_type": "code",
   "execution_count": null,
   "metadata": {},
   "outputs": [],
   "source": [
    "re.search(r\"with:?\\s (?P<status>)\",\n",
    "          \n",
    "          )"
   ]
  },
  {
   "cell_type": "code",
   "execution_count": 36,
   "metadata": {},
   "outputs": [],
   "source": [
    "re_with.search(\"with status ip\")"
   ]
  },
  {
   "cell_type": "code",
   "execution_count": 12,
   "metadata": {},
   "outputs": [
    {
     "data": {
      "text/plain": [
       "{'status': None, 'tags': None}"
      ]
     },
     "execution_count": 12,
     "metadata": {},
     "output_type": "execute_result"
    }
   ],
   "source": [
    "re_query.search(\"question with status ip\").groupdict()"
   ]
  }
 ],
 "metadata": {
  "kernelspec": {
   "display_name": ".venv",
   "language": "python",
   "name": "python3"
  },
  "language_info": {
   "codemirror_mode": {
    "name": "ipython",
    "version": 3
   },
   "file_extension": ".py",
   "mimetype": "text/x-python",
   "name": "python",
   "nbconvert_exporter": "python",
   "pygments_lexer": "ipython3",
   "version": "3.9.16"
  },
  "orig_nbformat": 4,
  "vscode": {
   "interpreter": {
    "hash": "851fa26c54176668bff0bd209b98563eb300e79007d806082d0901486aa6846b"
   }
  }
 },
 "nbformat": 4,
 "nbformat_minor": 2
}
