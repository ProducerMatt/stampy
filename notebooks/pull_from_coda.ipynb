{
 "cells": [
  {
   "cell_type": "code",
   "execution_count": 1,
   "metadata": {},
   "outputs": [
    {
     "data": {
      "text/plain": [
       "True"
      ]
     },
     "execution_count": 1,
     "metadata": {},
     "output_type": "execute_result"
    }
   ],
   "source": [
    "from datetime import datetime as dt, timedelta as td\n",
    "import os\n",
    "from pprint import pprint\n",
    "import re\n",
    "import random\n",
    "\n",
    "from dotenv import load_dotenv\n",
    "import pandas as pd\n",
    "import requests\n",
    "from tqdm import tqdm\n",
    "\n",
    "load_dotenv()"
   ]
  },
  {
   "cell_type": "code",
   "execution_count": 29,
   "metadata": {},
   "outputs": [],
   "source": [
    "\n",
    "def adjust_date(date_str: str) -> dt:\n",
    "    if date_str == \"\":\n",
    "        return dt(1, 1, 1, 0)\n",
    "    return dt.fromisoformat(date_str.split(\"T\")[0])\n",
    "\n",
    "def parse_row(row: dict) -> dict:\n",
    "    parsed = {\"id\": row[\"id\"]}\n",
    "    answer_raw = row[\"values\"][\"Edit Answer\"]\n",
    "    answer_match = re.match(r\"\\[(.+)\\]\\((.+)\\)$\", answer_raw)\n",
    "    assert answer_match\n",
    "    assert len(answer_match.groups()) == 2\n",
    "    parsed[\"answer_title\"], parsed[\"answer_url\"] = answer_match.groups()\n",
    "    parsed[\"status\"] = row[\"values\"][\"Status\"][\"name\"]\n",
    "    parsed[\"last_asked_on_discord\"] = adjust_date(row[\"values\"][\"Last Asked On Discord\"])\n",
    "    return parsed\n",
    "\n",
    "def get_not_started_questions() -> pd.DataFrame:\n",
    "    CODA_API_TOKEN = os.environ[\"CODA_API_TOKEN\"]\n",
    "    headers = {\"Authorization\": f\"Bearer {CODA_API_TOKEN}\"}\n",
    "    params = {\"valueFormat\": \"rich\", \"useColumnNames\": True}\n",
    "    doc_id = \"fau7sl2hmG\"\n",
    "    table_name = \"Write answers\"\n",
    "    uri = f\"https://coda.io/apis/v1/docs/{doc_id}/tables/{table_name}/rows\"\n",
    "    res = requests.get(uri, headers=headers, params=params).json()\n",
    "    rows = [parse_row(row) for row in res[\"items\"]]\n",
    "    return pd.DataFrame(rows)\n",
    "\n",
    "def get_oldest_question_message(df: pd.DataFrame) -> str:\n",
    "    oldest_discord_date = df[\"last_asked_on_discord\"].min()\n",
    "    oldest_discord_date_question_ids = df[df[\"last_asked_on_discord\"] == oldest_discord_date][\"id\"].tolist()\n",
    "    random_question_id = random.choice(oldest_discord_date_question_ids)\n",
    "    question = df.query(\"id == @random_question_id\").iloc[0]\n",
    "    return f\"{question['answer_title']}\\n\\n{question['answer_url']}\""
   ]
  },
  {
   "cell_type": "code",
   "execution_count": 33,
   "metadata": {},
   "outputs": [
    {
     "name": "stdout",
     "output_type": "stream",
     "text": [
      "How do I know whether I'm a good fit for work on AI safety?\n",
      "\n",
      "https://docs.google.com/document/d/1XEvWAvYr82SdXx0uzthbix7cgwBANwEcA1fnJJFnsos/edit?usp=drivesdk\n"
     ]
    }
   ],
   "source": [
    "df = get_not_started_questions()\n",
    "question_message = get_oldest_question_message(df)\n",
    "print(question_message)"
   ]
  },
  {
   "cell_type": "code",
   "execution_count": 24,
   "metadata": {},
   "outputs": [
    {
     "data": {
      "text/plain": [
       "\"What is FAR AI's research strategy?\""
      ]
     },
     "execution_count": 24,
     "metadata": {},
     "output_type": "execute_result"
    }
   ],
   "source": [
    "q[\"answer_title\"].item()"
   ]
  },
  {
   "cell_type": "code",
   "execution_count": 107,
   "metadata": {},
   "outputs": [
    {
     "ename": "ValueError",
     "evalue": "Invalid isoformat string: ''",
     "output_type": "error",
     "traceback": [
      "\u001b[0;31m---------------------------------------------------------------------------\u001b[0m",
      "\u001b[0;31mValueError\u001b[0m                                Traceback (most recent call last)",
      "Cell \u001b[0;32mIn[107], line 1\u001b[0m\n\u001b[0;32m----> 1\u001b[0m dt\u001b[39m.\u001b[39;49mfromisoformat(\u001b[39m\"\u001b[39;49m\u001b[39m\"\u001b[39;49m)\n",
      "\u001b[0;31mValueError\u001b[0m: Invalid isoformat string: ''"
     ]
    }
   ],
   "source": [
    "dt.fromisoformat(\"\")"
   ]
  },
  {
   "cell_type": "code",
   "execution_count": 67,
   "metadata": {},
   "outputs": [
    {
     "data": {
      "text/plain": [
       "(datetime.datetime(2023, 2, 3, 12, 24, 25, 695063),\n",
       " datetime.datetime(2023, 2, 5, 12, 24, 25, 695059))"
      ]
     },
     "execution_count": 67,
     "metadata": {},
     "output_type": "execute_result"
    }
   ],
   "source": [
    "dates = [dt.now(), dt.now() + td(days=1), dt.now() - td(days=1)]\n",
    "min(dates), max(dates)"
   ]
  },
  {
   "cell_type": "code",
   "execution_count": 55,
   "metadata": {},
   "outputs": [
    {
     "data": {
      "text/html": [
       "<div>\n",
       "<style scoped>\n",
       "    .dataframe tbody tr th:only-of-type {\n",
       "        vertical-align: middle;\n",
       "    }\n",
       "\n",
       "    .dataframe tbody tr th {\n",
       "        vertical-align: top;\n",
       "    }\n",
       "\n",
       "    .dataframe thead th {\n",
       "        text-align: right;\n",
       "    }\n",
       "</style>\n",
       "<table border=\"1\" class=\"dataframe\">\n",
       "  <thead>\n",
       "    <tr style=\"text-align: right;\">\n",
       "      <th></th>\n",
       "      <th>Edit Answer</th>\n",
       "      <th>Thumbnail</th>\n",
       "      <th>Status</th>\n",
       "      <th>Tags</th>\n",
       "      <th>Alternate Phrasings</th>\n",
       "      <th>Doc Last Edited</th>\n",
       "      <th>Last Asked On Discord</th>\n",
       "    </tr>\n",
       "  </thead>\n",
       "  <tbody>\n",
       "    <tr>\n",
       "      <th>0</th>\n",
       "      <td>What are some introductions to AI safety?</td>\n",
       "      <td>image.jpeg</td>\n",
       "      <td>Not started</td>\n",
       "      <td></td>\n",
       "      <td></td>\n",
       "      <td>2023-01-31T17:05:17.807+01:00</td>\n",
       "      <td></td>\n",
       "    </tr>\n",
       "    <tr>\n",
       "      <th>1</th>\n",
       "      <td>What is Redwood Research's strategy?</td>\n",
       "      <td>image.jpeg</td>\n",
       "      <td>Not started</td>\n",
       "      <td>AISafety.careers</td>\n",
       "      <td></td>\n",
       "      <td>2023-01-25T23:46:39.867+01:00</td>\n",
       "      <td></td>\n",
       "    </tr>\n",
       "    <tr>\n",
       "      <th>2</th>\n",
       "      <td>What is Ought's strategy?</td>\n",
       "      <td>image.jpeg</td>\n",
       "      <td>Not started</td>\n",
       "      <td>AISafety.careers</td>\n",
       "      <td></td>\n",
       "      <td>2023-01-25T23:46:17.435+01:00</td>\n",
       "      <td></td>\n",
       "    </tr>\n",
       "    <tr>\n",
       "      <th>3</th>\n",
       "      <td>What is OpenAI's research strategy?</td>\n",
       "      <td>image.jpeg</td>\n",
       "      <td>Not started</td>\n",
       "      <td>AISafety.careers</td>\n",
       "      <td></td>\n",
       "      <td>2023-01-25T23:45:52.957+01:00</td>\n",
       "      <td></td>\n",
       "    </tr>\n",
       "    <tr>\n",
       "      <th>4</th>\n",
       "      <td>What is the Long-Term Future Fund's strategy?</td>\n",
       "      <td>image.jpeg</td>\n",
       "      <td>Not started</td>\n",
       "      <td>AISafety.careers</td>\n",
       "      <td></td>\n",
       "      <td>2023-01-25T23:45:33.337+01:00</td>\n",
       "      <td></td>\n",
       "    </tr>\n",
       "    <tr>\n",
       "      <th>...</th>\n",
       "      <td>...</td>\n",
       "      <td>...</td>\n",
       "      <td>...</td>\n",
       "      <td>...</td>\n",
       "      <td>...</td>\n",
       "      <td>...</td>\n",
       "      <td>...</td>\n",
       "    </tr>\n",
       "    <tr>\n",
       "      <th>137</th>\n",
       "      <td>Can we ever be sure that an AI is aligned?</td>\n",
       "      <td>image.jpeg</td>\n",
       "      <td>Not started</td>\n",
       "      <td></td>\n",
       "      <td></td>\n",
       "      <td>2023-01-14T16:38:38.159+01:00</td>\n",
       "      <td></td>\n",
       "    </tr>\n",
       "    <tr>\n",
       "      <th>138</th>\n",
       "      <td>Are there risk analysis methods, which may hel...</td>\n",
       "      <td>image.jpeg</td>\n",
       "      <td>Not started</td>\n",
       "      <td>Existential Risk</td>\n",
       "      <td></td>\n",
       "      <td>2023-01-14T16:38:44.064+01:00</td>\n",
       "      <td></td>\n",
       "    </tr>\n",
       "    <tr>\n",
       "      <th>139</th>\n",
       "      <td>Are there promising ways to make AI alignment ...</td>\n",
       "      <td></td>\n",
       "      <td>Not started</td>\n",
       "      <td>Intelligence Amplification,Research Assistants</td>\n",
       "      <td></td>\n",
       "      <td>2023-01-22T13:19:02.230+01:00</td>\n",
       "      <td></td>\n",
       "    </tr>\n",
       "    <tr>\n",
       "      <th>140</th>\n",
       "      <td>Are there any plausibly workable proposals for...</td>\n",
       "      <td></td>\n",
       "      <td>Not started</td>\n",
       "      <td>Regulation</td>\n",
       "      <td></td>\n",
       "      <td>2023-01-21T09:49:01.566+01:00</td>\n",
       "      <td></td>\n",
       "    </tr>\n",
       "    <tr>\n",
       "      <th>141</th>\n",
       "      <td>Are there any AI alignment projects which gove...</td>\n",
       "      <td></td>\n",
       "      <td>Not started</td>\n",
       "      <td>Megaprojects,Government</td>\n",
       "      <td></td>\n",
       "      <td>2023-01-21T20:18:32.392+01:00</td>\n",
       "      <td></td>\n",
       "    </tr>\n",
       "  </tbody>\n",
       "</table>\n",
       "<p>142 rows × 7 columns</p>\n",
       "</div>"
      ],
      "text/plain": [
       "                                           Edit Answer   Thumbnail  \\\n",
       "0            What are some introductions to AI safety?  image.jpeg   \n",
       "1                 What is Redwood Research's strategy?  image.jpeg   \n",
       "2                            What is Ought's strategy?  image.jpeg   \n",
       "3                  What is OpenAI's research strategy?  image.jpeg   \n",
       "4        What is the Long-Term Future Fund's strategy?  image.jpeg   \n",
       "..                                                 ...         ...   \n",
       "137         Can we ever be sure that an AI is aligned?  image.jpeg   \n",
       "138  Are there risk analysis methods, which may hel...  image.jpeg   \n",
       "139  Are there promising ways to make AI alignment ...               \n",
       "140  Are there any plausibly workable proposals for...               \n",
       "141  Are there any AI alignment projects which gove...               \n",
       "\n",
       "          Status                                            Tags  \\\n",
       "0    Not started                                                   \n",
       "1    Not started                                AISafety.careers   \n",
       "2    Not started                                AISafety.careers   \n",
       "3    Not started                                AISafety.careers   \n",
       "4    Not started                                AISafety.careers   \n",
       "..           ...                                             ...   \n",
       "137  Not started                                                   \n",
       "138  Not started                                Existential Risk   \n",
       "139  Not started  Intelligence Amplification,Research Assistants   \n",
       "140  Not started                                      Regulation   \n",
       "141  Not started                         Megaprojects,Government   \n",
       "\n",
       "    Alternate Phrasings                Doc Last Edited Last Asked On Discord  \n",
       "0                        2023-01-31T17:05:17.807+01:00                        \n",
       "1                        2023-01-25T23:46:39.867+01:00                        \n",
       "2                        2023-01-25T23:46:17.435+01:00                        \n",
       "3                        2023-01-25T23:45:52.957+01:00                        \n",
       "4                        2023-01-25T23:45:33.337+01:00                        \n",
       "..                  ...                            ...                   ...  \n",
       "137                      2023-01-14T16:38:38.159+01:00                        \n",
       "138                      2023-01-14T16:38:44.064+01:00                        \n",
       "139                      2023-01-22T13:19:02.230+01:00                        \n",
       "140                      2023-01-21T09:49:01.566+01:00                        \n",
       "141                      2023-01-21T20:18:32.392+01:00                        \n",
       "\n",
       "[142 rows x 7 columns]"
      ]
     },
     "execution_count": 55,
     "metadata": {},
     "output_type": "execute_result"
    }
   ],
   "source": [
    "df = pd.DataFrame(rows)\n",
    "df.query(\"Status == 'Not started'\")"
   ]
  },
  {
   "cell_type": "code",
   "execution_count": null,
   "metadata": {},
   "outputs": [],
   "source": []
  },
  {
   "cell_type": "code",
   "execution_count": 28,
   "metadata": {},
   "outputs": [
    {
     "data": {
      "text/plain": [
       "{'id': 'c-yVzORYxIYy',\n",
       " 'type': 'column',\n",
       " 'name': 'Edit Answer',\n",
       " 'href': 'https://coda.io/apis/v1/docs/fau7sl2hmG/tables/grid-sync-1059-File/columns/c-yVzORYxIYy',\n",
       " 'calculated': True,\n",
       " 'format': {'type': 'text', 'isArray': False},\n",
       " 'formula': '_Bold(Hyperlink(Link,Question))'}"
      ]
     },
     "execution_count": 28,
     "metadata": {},
     "output_type": "execute_result"
    }
   ],
   "source": [
    "cols_res[\"items\"][0]"
   ]
  },
  {
   "cell_type": "code",
   "execution_count": 27,
   "metadata": {},
   "outputs": [
    {
     "data": {
      "text/plain": [
       "{'id': 'i-7a91fe76021bd1ef050520611a26a0525b161f08855c6e80b901d06c0ec8535b',\n",
       " 'type': 'row',\n",
       " 'href': 'https://coda.io/apis/v1/docs/fau7sl2hmG/tables/table-e1JXpwk4_x/rows/i-7a91fe76021bd1ef050520611a26a0525b161f08855c6e80b901d06c0ec8535b',\n",
       " 'name': 'What are some introductions to AI safety?',\n",
       " 'index': 432,\n",
       " 'createdAt': '2023-01-31T16:50:24.080Z',\n",
       " 'updatedAt': '2023-02-03T12:39:15.945Z',\n",
       " 'browserLink': 'https://coda.io/d/_dfau7sl2hmG#_tutable-e1JXpwk4_x/_rui-7a91fe76021bd1ef050520611a26a0525b161f08855c6e80b901d06c0ec8535b',\n",
       " 'values': {'c-yVzORYxIYy': 'What are some introductions to AI safety?',\n",
       "  'c-HHOR1Ln6w8': 'image.jpeg',\n",
       "  'c-Gr2GDh30nR': 'Not started',\n",
       "  'c-fW9FG_MXY0': '',\n",
       "  'c-bLWz7lnXHG': '',\n",
       "  'c-UQjERPXq8o': '2023-01-31T17:05:17.807+01:00',\n",
       "  'c-AYS4L23EeA': ''}}"
      ]
     },
     "execution_count": 27,
     "metadata": {},
     "output_type": "execute_result"
    }
   ],
   "source": [
    "rows_res[\"items\"][0]"
   ]
  }
 ],
 "metadata": {
  "kernelspec": {
   "display_name": ".venv",
   "language": "python",
   "name": "python3"
  },
  "language_info": {
   "codemirror_mode": {
    "name": "ipython",
    "version": 3
   },
   "file_extension": ".py",
   "mimetype": "text/x-python",
   "name": "python",
   "nbconvert_exporter": "python",
   "pygments_lexer": "ipython3",
   "version": "3.9.16"
  },
  "orig_nbformat": 4,
  "vscode": {
   "interpreter": {
    "hash": "851fa26c54176668bff0bd209b98563eb300e79007d806082d0901486aa6846b"
   }
  }
 },
 "nbformat": 4,
 "nbformat_minor": 2
}
